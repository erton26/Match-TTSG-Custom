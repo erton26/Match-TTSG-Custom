{
 "cells": [
  {
   "cell_type": "markdown",
   "id": "f37f4e3b-f764-4502-a6a2-6417bd9bfab9",
   "metadata": {},
   "source": [
    "# Match-TTSG: UNIFIED SPEECH AND GESTURE SYNTHESIS USING FLOW MATCHING\n",
    "---\n",
    "[Shivam Mehta](https://www.kth.se/profile/smehta), [Ruibo Tu](https://www.kth.se/profile/ruibo), [Simon Alexanderson\n",
    "](https://www.kth.se/profile/simonal?l=en) [Jonas Beskow](https://www.kth.se/profile/beskow), [Éva Székely](https://www.kth.se/profile/szekely), and [Gustav Eje Henter](https://people.kth.se/~ghe/)\n",
    "\n",
    "As text-to-speech technologies achieve remarkable naturalness in read-aloud tasks, there is growing interest in multimodal synthesis of verbal and non-verbal communicative behaviour, such as spontaneous speech and associated body gestures. This paper presents a novel, unified architecture for jointly synthesising speech acoustics and skeleton-based 3D gesture motion from text, trained using optimal-transport conditional flow matching (OT-CFM). The proposed architecture is simpler than the previous state of the art, has a smaller memory footprint, and can capture the joint distribution of speech and gestures, generating both modalities together in one single process. The new training regime, meanwhile, enables better synthesis quality in much fewer steps (network evaluations) than before. Uni- and multimodal subjective tests demonstrate improved speech naturalness, gesture human-likeness, and cross-modal appropriateness compared to existing benchmarks.\n",
    "\n",
    "Demo Page: https://shivammehta25.github.io/Match-TTSG \\\n",
    "Code: https://github.com/shivammehta25/Match-TTSG\n",
    "\n",
    "\n"
   ]
  },
  {
   "cell_type": "code",
   "execution_count": 1,
   "id": "148f4bc0-c28e-4670-9a5e-4c7928ab8992",
   "metadata": {},
   "outputs": [
    {
     "name": "stdout",
     "output_type": "stream",
     "text": [
      "env: CUDA_VISIBLE_DEVICES=0\n"
     ]
    }
   ],
   "source": [
    "%env CUDA_VISIBLE_DEVICES=0"
   ]
  },
  {
   "cell_type": "code",
   "execution_count": 9,
   "id": "8d5876c0-b47e-4c80-9e9c-62550f81b64e",
   "metadata": {},
   "outputs": [],
   "source": [
    "import datetime as dt\n",
    "import warnings\n",
    "from pathlib import Path\n",
    "\n",
    "import ffmpeg\n",
    "import IPython.display as ipd\n",
    "import joblib as jl\n",
    "import numpy as np\n",
    "import soundfile as sf\n",
    "import torch\n",
    "from tqdm.auto import tqdm\n",
    "\n",
    "# Hifigan imports\n",
    "from match_ttsg.hifigan.config import v1\n",
    "from match_ttsg.hifigan.denoiser import Denoiser\n",
    "from match_ttsg.hifigan.env import AttrDict\n",
    "from match_ttsg.hifigan.models import Generator as HiFiGAN\n",
    "# MatchTTSG imports\n",
    "from match_ttsg.models.match_ttsg_custom import MatchTTSGCustom\n",
    "from match_ttsg.text import sequence_to_text, text_to_sequence\n",
    "from match_ttsg.utils.model import denormalize\n",
    "from match_ttsg.utils.utils import get_user_data_dir, intersperse\n",
    "\n",
    "# Motion visualisation imports\n",
    "from pymo.preprocessing import MocapParameterizer\n",
    "from pymo.viz_tools import render_mp4\n",
    "from pymo.writers import BVHWriter"
   ]
  },
  {
   "cell_type": "code",
   "execution_count": 10,
   "id": "b1a30306-588c-4f22-8d9b-e2676880b0e5",
   "metadata": {},
   "outputs": [
    {
     "name": "stdout",
     "output_type": "stream",
     "text": [
      "The autoreload extension is already loaded. To reload it, use:\n",
      "  %reload_ext autoreload\n"
     ]
    }
   ],
   "source": [
    "%load_ext autoreload\n",
    "%autoreload 2\n",
    "%matplotlib inline\n",
    "# This allows for real time code changes being reflected in the notebook, no need to restart the kernel"
   ]
  },
  {
   "cell_type": "code",
   "execution_count": 11,
   "id": "a312856b-01a9-4d75-a4c8-4666dffa0692",
   "metadata": {},
   "outputs": [
    {
     "name": "stdout",
     "output_type": "stream",
     "text": [
      "True\n"
     ]
    }
   ],
   "source": [
    "print(torch.cuda.is_available())\n",
    "device = torch.device(\"cuda\" if torch.cuda.is_available() else \"cpu\")"
   ]
  },
  {
   "cell_type": "markdown",
   "id": "88f3b3c3-d014-443b-84eb-e143cdec3e21",
   "metadata": {},
   "source": [
    "## Filepaths"
   ]
  },
  {
   "cell_type": "code",
   "execution_count": 19,
   "id": "7640a4c1-44ce-447c-a8ff-45012fb7bddd",
   "metadata": {},
   "outputs": [
    {
     "name": "stdout",
     "output_type": "stream",
     "text": [
      "/home/ayrton/.local/share/matcha_tts/generator_v1\n"
     ]
    }
   ],
   "source": [
    "MATCHTTSG_CHECKPOINT = \"logs/train/multimodal_single_abi_baseline/runs/2024-12-12_15-40-39/checkpoints/last.ckpt\"\n",
    "#MOTION_PIPELINE = \"match_ttsg/resources/data_pipe.expmap_86.1328125fps.sav\"\n",
    "HIFIGAN_CHECKPOINT = get_user_data_dir() / \"generator_v1\"#\"hifigan_T2_v1\"\n",
    "OUTPUT_FOLDER = \"synth_output\"\n",
    "\n",
    "print(HIFIGAN_CHECKPOINT)"
   ]
  },
  {
   "cell_type": "markdown",
   "id": "6477a3a9-71f2-4d2f-bb86-bdf3e31c2461",
   "metadata": {},
   "source": [
    "## Load Match-TTSG"
   ]
  },
  {
   "cell_type": "code",
   "execution_count": 20,
   "id": "26a16230-04ba-4825-a844-2fb5ab945e24",
   "metadata": {},
   "outputs": [
    {
     "name": "stdout",
     "output_type": "stream",
     "text": [
      "Model loaded! Parameter count: 18,448,463\n"
     ]
    }
   ],
   "source": [
    "def load_model(checkpoint_path):\n",
    "    model = MatchTTSGCustom.load_from_checkpoint(checkpoint_path, map_location=device)\n",
    "    model.eval()\n",
    "    return model\n",
    "count_params = lambda x: f\"{sum(p.numel() for p in x.parameters()):,}\"\n",
    "\n",
    "\n",
    "model = load_model(MATCHTTSG_CHECKPOINT)\n",
    "print(f\"Model loaded! Parameter count: {count_params(model)}\")"
   ]
  },
  {
   "cell_type": "markdown",
   "id": "3077b84b-e3b6-42e1-a84b-2f7084b13f92",
   "metadata": {},
   "source": [
    "## Load HiFi-GAN (Vocoder)"
   ]
  },
  {
   "cell_type": "code",
   "execution_count": 21,
   "id": "f6b68184-968d-4868-9029-f0c40e9e68af",
   "metadata": {},
   "outputs": [
    {
     "name": "stderr",
     "output_type": "stream",
     "text": [
      "/home/ayrton/anaconda3/envs/match-ttsg-wsl/lib/python3.10/site-packages/torch/nn/utils/weight_norm.py:143: FutureWarning: `torch.nn.utils.weight_norm` is deprecated in favor of `torch.nn.utils.parametrizations.weight_norm`.\n",
      "  WeightNorm.apply(module, name, dim)\n",
      "/tmp/ipykernel_3031247/977743176.py:4: FutureWarning: You are using `torch.load` with `weights_only=False` (the current default value), which uses the default pickle module implicitly. It is possible to construct malicious pickle data which will execute arbitrary code during unpickling (See https://github.com/pytorch/pytorch/blob/main/SECURITY.md#untrusted-models for more details). In a future release, the default value for `weights_only` will be flipped to `True`. This limits the functions that could be executed during unpickling. Arbitrary objects will no longer be allowed to be loaded via this mode unless they are explicitly allowlisted by the user via `torch.serialization.add_safe_globals`. We recommend you start setting `weights_only=True` for any use case where you don't have full control of the loaded file. Please open an issue on GitHub for any issues related to this experimental feature.\n",
      "  hifigan.load_state_dict(torch.load(checkpoint_path, map_location=device)['generator'])\n"
     ]
    },
    {
     "name": "stdout",
     "output_type": "stream",
     "text": [
      "Removing weight norm...\n"
     ]
    }
   ],
   "source": [
    "def load_vocoder(checkpoint_path):\n",
    "    h = AttrDict(v1)\n",
    "    hifigan = HiFiGAN(h).to(device)\n",
    "    hifigan.load_state_dict(torch.load(checkpoint_path, map_location=device)['generator'])\n",
    "    _ = hifigan.eval()\n",
    "    hifigan.remove_weight_norm()\n",
    "    return hifigan\n",
    "\n",
    "vocoder = load_vocoder(HIFIGAN_CHECKPOINT)\n",
    "denoiser = Denoiser(vocoder, mode='zeros')"
   ]
  },
  {
   "cell_type": "markdown",
   "id": "4ec8cc37-4987-4bff-874d-3c1af1ab29c4",
   "metadata": {},
   "source": [
    "# Load motion visualiser"
   ]
  },
  {
   "cell_type": "code",
   "execution_count": 33,
   "id": "aecca09a-2b8a-4938-9474-4eee527c0df0",
   "metadata": {},
   "outputs": [
    {
     "name": "stderr",
     "output_type": "stream",
     "text": [
      "/home/smehta/anaconda3/envs/match_ttsg_repo/lib/python3.10/site-packages/sklearn/base.py:376: InconsistentVersionWarning: Trying to unpickle estimator Pipeline from version 0.24.2 when using version 1.4.1.post1. This might lead to breaking code or invalid results. Use at your own risk. For more info please refer to:\n",
      "https://scikit-learn.org/stable/model_persistence.html#security-maintainability-limitations\n",
      "  warnings.warn(\n"
     ]
    }
   ],
   "source": [
    "motion_pipeline = jl.load(MOTION_PIPELINE)\n",
    "bvh_writer = BVHWriter()\n",
    "mocap_params = MocapParameterizer(\"position\")"
   ]
  },
  {
   "cell_type": "markdown",
   "id": "4cbc2ba0-09ff-40e2-9e60-6b77b534f9fb",
   "metadata": {},
   "source": [
    "### Helper functions to synthesise"
   ]
  },
  {
   "cell_type": "code",
   "execution_count": 43,
   "id": "880a1879-24fd-4757-849c-850339120796",
   "metadata": {},
   "outputs": [
    {
     "data": {
      "text/plain": [
       "'\\ndef to_stick_video(filename, bvh, folder):\\n    folder = Path(folder)\\n    folder.mkdir(exist_ok=True, parents=True)\\n\\n    with warnings.catch_warnings():\\n        warnings.simplefilter(\"ignore\")\\n        X_pos = mocap_params.fit_transform([bvh])\\n    print(f\"rendering {filename} ...\")\\n    render_mp4(X_pos[0], folder / f\\'{filename}.mp4\\', axis_scale=200)\\n\\n\\ndef combine_audio_video(filename: str, folder: str):\\n    print(\"Combining audio and video\")\\n    folder = Path(folder)\\n    folder.mkdir(exist_ok=True, parents=True)\\n\\n    input_video = ffmpeg.input(str(folder / f\\'{filename}.mp4\\'))\\n    input_audio = ffmpeg.input(str(folder / f\\'{filename}.wav\\'))\\n    output_filename = folder / f\\'{filename}_audio.mp4\\'\\n    ffmpeg.concat(input_video, input_audio, v=1, a=1).output(str(output_filename)).run(overwrite_output=True)\\n    print(f\"Final output with audio: {output_filename}\")\\n'"
      ]
     },
     "execution_count": 43,
     "metadata": {},
     "output_type": "execute_result"
    }
   ],
   "source": [
    "@torch.inference_mode()\n",
    "def process_text(text: str):\n",
    "    #x = torch.tensor(intersperse(text_to_sequence(text, ['japanese_accent_cleaners']), 0),dtype=torch.long, device=device)[None]\n",
    "    x = torch.tensor(text_to_sequence(text, ['japanese_accent_cleaners']),dtype=torch.long, device=device)[None]\n",
    "    x_lengths = torch.tensor([x.shape[-1]],dtype=torch.long, device=device)\n",
    "    x_phones = sequence_to_text(x.squeeze(0).tolist())\n",
    "    return {\n",
    "        'x_orig': text,\n",
    "        'x': x,\n",
    "        'x_lengths': x_lengths,\n",
    "        'x_phones': x_phones\n",
    "    }\n",
    "\n",
    "\n",
    "@torch.inference_mode()\n",
    "def synthesise(text, spks=None):\n",
    "    text_processed = process_text(text)\n",
    "    start_t = dt.datetime.now()\n",
    "    output = model.synthesise(\n",
    "        text_processed['x'], \n",
    "        text_processed['x_lengths'],\n",
    "        n_timesteps=n_timesteps,\n",
    "        temperature=temperature,\n",
    "        spks=spks,\n",
    "        length_scale=length_scale\n",
    "    )\n",
    "    # merge everything to one dict    \n",
    "    output.update({'start_t': start_t, **text_processed})\n",
    "    return output\n",
    "\n",
    "@torch.inference_mode()\n",
    "def to_waveform(mel, vocoder):\n",
    "    audio = vocoder(mel).clamp(-1, 1)\n",
    "    audio = denoiser(audio.squeeze(0), strength=0.00025).cpu().squeeze()\n",
    "    return audio.cpu().squeeze()\n",
    "\n",
    "\"\"\"\n",
    "def to_bvh(motion):\n",
    "    with warnings.catch_warnings():\n",
    "        warnings.simplefilter(\"ignore\")\n",
    "        return motion_pipeline.inverse_transform([motion.cpu().squeeze(0).T])\n",
    "\"\"\"  \n",
    "def save_to_folder(filename: str, output: dict, folder: str):\n",
    "    folder = Path(folder)\n",
    "    folder.mkdir(exist_ok=True, parents=True)\n",
    "    np.save(folder / f'{filename}', output['mel'].cpu().numpy())\n",
    "    sf.write(folder / f'{filename}.wav', output['waveform'], 22050, 'PCM_24')\n",
    "    #with open(folder / f'{filename}.bvh', 'w') as f:\n",
    "        #bvh_writer.write(output['bvh'], f)\n",
    "\"\"\"\n",
    "def to_stick_video(filename, bvh, folder):\n",
    "    folder = Path(folder)\n",
    "    folder.mkdir(exist_ok=True, parents=True)\n",
    "\n",
    "    with warnings.catch_warnings():\n",
    "        warnings.simplefilter(\"ignore\")\n",
    "        X_pos = mocap_params.fit_transform([bvh])\n",
    "    print(f\"rendering {filename} ...\")\n",
    "    render_mp4(X_pos[0], folder / f'{filename}.mp4', axis_scale=200)\n",
    "\n",
    "\n",
    "def combine_audio_video(filename: str, folder: str):\n",
    "    print(\"Combining audio and video\")\n",
    "    folder = Path(folder)\n",
    "    folder.mkdir(exist_ok=True, parents=True)\n",
    "\n",
    "    input_video = ffmpeg.input(str(folder / f'{filename}.mp4'))\n",
    "    input_audio = ffmpeg.input(str(folder / f'{filename}.wav'))\n",
    "    output_filename = folder / f'{filename}_audio.mp4'\n",
    "    ffmpeg.concat(input_video, input_audio, v=1, a=1).output(str(output_filename)).run(overwrite_output=True)\n",
    "    print(f\"Final output with audio: {output_filename}\")\n",
    "\"\"\""
   ]
  },
  {
   "cell_type": "code",
   "execution_count": 44,
   "id": "210bb1e9",
   "metadata": {},
   "outputs": [
    {
     "name": "stdout",
     "output_type": "stream",
     "text": [
      "{'x_orig': 'よろしくお願いします', 'x': tensor([[ 8, 62, 52,  4, 55, 52, 56, 45, 20, 48, 58, 52, 51, 42, 44, 38, 46, 56,\n",
      "         45, 46, 50, 38,  5, 56, 32,  7]], device='cuda:0'), 'x_lengths': tensor([26], device='cuda:0'), 'x_phones': ':yo(roshIkuonegaishima)sU.'}\n"
     ]
    }
   ],
   "source": [
    "print(process_text(\"よろしくお願いします\"))"
   ]
  },
  {
   "cell_type": "markdown",
   "id": "78f857e3-2ef7-4c86-b776-596c4d3cf875",
   "metadata": {},
   "source": [
    "## Setup text to synthesise"
   ]
  },
  {
   "cell_type": "code",
   "execution_count": 49,
   "id": "2e0a9acd-0845-4192-ba09-b9683e28a3ac",
   "metadata": {},
   "outputs": [],
   "source": [
    "texts = [\n",
    "    \"今日はいい天気ですね\"\n",
    "]"
   ]
  },
  {
   "cell_type": "markdown",
   "id": "a9da9e2d-99b9-4c6f-8a08-c828e2cba121",
   "metadata": {},
   "source": [
    "### Hyperparameters"
   ]
  },
  {
   "cell_type": "code",
   "execution_count": 46,
   "id": "f0d216e5-4895-4da8-9d24-9e61021d2556",
   "metadata": {},
   "outputs": [],
   "source": [
    "## Number of ODE Solver steps\n",
    "n_timesteps = 500\n",
    "\n",
    "## Changes to the speaking rate\n",
    "length_scale=1.0\n",
    "\n",
    "## Sampling temperature\n",
    "temperature = 0.667"
   ]
  },
  {
   "cell_type": "markdown",
   "id": "b93aac89-c7f8-4975-8510-4e763c9689f4",
   "metadata": {},
   "source": [
    "## Synthesis"
   ]
  },
  {
   "cell_type": "code",
   "execution_count": 47,
   "id": "3b6a120a",
   "metadata": {},
   "outputs": [],
   "source": [
    "from match_ttsg.utils.model import denormalize\n",
    "mel_mean = -5.264796733856201\n",
    "mel_std = 1.5986379384994507"
   ]
  },
  {
   "cell_type": "code",
   "execution_count": 50,
   "id": "5a227963-aa12-43b9-a706-1168b6fc0ba5",
   "metadata": {
    "scrolled": true
   },
   "outputs": [
    {
     "data": {
      "application/vnd.jupyter.widget-view+json": {
       "model_id": "c8e484e4f64349849d0eba50d4d24593",
       "version_major": 2,
       "version_minor": 0
      },
      "text/plain": [
       "  0%|          | 0/1 [00:00<?, ?it/s]"
      ]
     },
     "metadata": {},
     "output_type": "display_data"
    },
    {
     "name": "stdout",
     "output_type": "stream",
     "text": [
      "*****************************************************\n",
      "Input text - 0\n",
      "-----------------------------------------------------\n",
      "今日はいい天気ですね\n",
      "*****************************************************\n",
      "Phonetised text - 0\n",
      "-----------------------------------------------------\n",
      ":kyo)owa i)i te)NkidesUne.\n",
      "*****************************************************\n",
      "RTF:\t\t3.304738\n",
      "RTF Waveform:\t3.346854\n"
     ]
    },
    {
     "data": {
      "text/html": [
       "\n",
       "                <audio  controls=\"controls\" >\n",
       "                    <source src=\"data:audio/wav;base64,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\" type=\"audio/wav\" />\n",
       "                    Your browser does not support the audio element.\n",
       "                </audio>\n",
       "              "
      ],
      "text/plain": [
       "<IPython.lib.display.Audio object>"
      ]
     },
     "metadata": {},
     "output_type": "display_data"
    },
    {
     "name": "stdout",
     "output_type": "stream",
     "text": [
      "Number of ODE steps: 500\n",
      "Mean RTF:\t\t\t\t3.304738 ± 0.000000\n",
      "Mean RTF Waveform (incl. vocoder):\t3.346854 ± 0.000000\n"
     ]
    }
   ],
   "source": [
    "outputs, rtfs = [], []\n",
    "rtfs_w = []\n",
    "for i, text in enumerate(tqdm(texts)):\n",
    "    output = synthesise(text) #, torch.tensor([15], device=device, dtype=torch.long).unsqueeze(0))\n",
    "    #output['waveform'] = to_waveform(output['mel'], vocoder)\n",
    "    output['waveform'] = to_waveform(denormalize(output['decoder_outputs_mel'], mel_mean, mel_std), vocoder)\n",
    "    #output['bvh'] = to_bvh(output['motion'])[0]\n",
    "\n",
    "    # Compute Real Time Factor (RTF) with HiFi-GAN\n",
    "    t = (dt.datetime.now() - output['start_t']).total_seconds()\n",
    "    rtf_w = t * 22050 / (output['waveform'].shape[-1])\n",
    "\n",
    "    ## Pretty print\n",
    "    print(f\"{'*' * 53}\")\n",
    "    print(f\"Input text - {i}\")\n",
    "    print(f\"{'-' * 53}\")\n",
    "    print(output['x_orig'])\n",
    "    print(f\"{'*' * 53}\")\n",
    "    print(f\"Phonetised text - {i}\")\n",
    "    print(f\"{'-' * 53}\")\n",
    "    print(output['x_phones'])\n",
    "    print(f\"{'*' * 53}\")\n",
    "    print(f\"RTF:\\t\\t{output['rtf']:.6f}\")\n",
    "    print(f\"RTF Waveform:\\t{rtf_w:.6f}\")\n",
    "    rtfs.append(output['rtf'])\n",
    "    rtfs_w.append(rtf_w)\n",
    "    outputs.append(output)\n",
    "\n",
    "    ## Display the synthesised waveform\n",
    "    ipd.display(ipd.Audio(output['waveform'], rate=22050))\n",
    "\n",
    "    ## Save the generated waveform\n",
    "    save_to_folder(i, output, OUTPUT_FOLDER)\n",
    "\n",
    "print(f\"Number of ODE steps: {n_timesteps}\")\n",
    "print(f\"Mean RTF:\\t\\t\\t\\t{np.mean(rtfs):.6f} ± {np.std(rtfs):.6f}\")\n",
    "print(f\"Mean RTF Waveform (incl. vocoder):\\t{np.mean(rtfs_w):.6f} ± {np.std(rtfs_w):.6f}\")"
   ]
  },
  {
   "cell_type": "code",
   "execution_count": null,
   "id": "c47f27d3-e1af-4285-8537-5db034b12851",
   "metadata": {},
   "outputs": [],
   "source": []
  },
  {
   "cell_type": "code",
   "execution_count": 50,
   "id": "387129d6-3140-466e-b1f3-17a106c2cdbb",
   "metadata": {},
   "outputs": [
    {
     "data": {
      "application/vnd.jupyter.widget-view+json": {
       "model_id": "01de07c060764c8fbf596d863347d5e4",
       "version_major": 2,
       "version_minor": 0
      },
      "text/plain": [
       "  0%|          | 0/1 [00:00<?, ?it/s]"
      ]
     },
     "metadata": {},
     "output_type": "display_data"
    },
    {
     "name": "stdout",
     "output_type": "stream",
     "text": [
      "MocapParameterizer: position\n",
      "rendering 0 ...\n"
     ]
    },
    {
     "name": "stderr",
     "output_type": "stream",
     "text": [
      "/home/smehta/Projects/Match-TTSG/pymo/viz_tools.py:168: FutureWarning: Series.__getitem__ treating keys as positions is deprecated. In a future version, integer keys will always be treated as labels (consistent with DataFrame behavior). To access a value by position, use `ser.iloc[pos]`\n",
      "  parent_x = data[\"%s_Xposition\" % joint][frame]\n",
      "/home/smehta/Projects/Match-TTSG/pymo/viz_tools.py:169: FutureWarning: Series.__getitem__ treating keys as positions is deprecated. In a future version, integer keys will always be treated as labels (consistent with DataFrame behavior). To access a value by position, use `ser.iloc[pos]`\n",
      "  parent_y = data[\"%s_Yposition\" % joint][frame]\n",
      "/home/smehta/Projects/Match-TTSG/pymo/viz_tools.py:170: FutureWarning: Series.__getitem__ treating keys as positions is deprecated. In a future version, integer keys will always be treated as labels (consistent with DataFrame behavior). To access a value by position, use `ser.iloc[pos]`\n",
      "  parent_z = data[\"%s_Zposition\" % joint][frame]\n",
      "/home/smehta/Projects/Match-TTSG/pymo/viz_tools.py:175: FutureWarning: Series.__getitem__ treating keys as positions is deprecated. In a future version, integer keys will always be treated as labels (consistent with DataFrame behavior). To access a value by position, use `ser.iloc[pos]`\n",
      "  child_x = data[\"%s_Xposition\" % c][frame]\n",
      "/home/smehta/Projects/Match-TTSG/pymo/viz_tools.py:176: FutureWarning: Series.__getitem__ treating keys as positions is deprecated. In a future version, integer keys will always be treated as labels (consistent with DataFrame behavior). To access a value by position, use `ser.iloc[pos]`\n",
      "  child_y = data[\"%s_Yposition\" % c][frame]\n",
      "/home/smehta/Projects/Match-TTSG/pymo/viz_tools.py:177: FutureWarning: Series.__getitem__ treating keys as positions is deprecated. In a future version, integer keys will always be treated as labels (consistent with DataFrame behavior). To access a value by position, use `ser.iloc[pos]`\n",
      "  child_z = data[\"%s_Zposition\" % c][frame]\n"
     ]
    },
    {
     "name": "stdout",
     "output_type": "stream",
     "text": [
      "Combining audio and video\n"
     ]
    },
    {
     "name": "stderr",
     "output_type": "stream",
     "text": [
      "ffmpeg version 4.2.7-0ubuntu0.1 Copyright (c) 2000-2022 the FFmpeg developers\n",
      "  built with gcc 9 (Ubuntu 9.4.0-1ubuntu1~20.04.1)\n",
      "  configuration: --prefix=/usr --extra-version=0ubuntu0.1 --toolchain=hardened --libdir=/usr/lib/x86_64-linux-gnu --incdir=/usr/include/x86_64-linux-gnu --arch=amd64 --enable-gpl --disable-stripping --enable-avresample --disable-filter=resample --enable-avisynth --enable-gnutls --enable-ladspa --enable-libaom --enable-libass --enable-libbluray --enable-libbs2b --enable-libcaca --enable-libcdio --enable-libcodec2 --enable-libflite --enable-libfontconfig --enable-libfreetype --enable-libfribidi --enable-libgme --enable-libgsm --enable-libjack --enable-libmp3lame --enable-libmysofa --enable-libopenjpeg --enable-libopenmpt --enable-libopus --enable-libpulse --enable-librsvg --enable-librubberband --enable-libshine --enable-libsnappy --enable-libsoxr --enable-libspeex --enable-libssh --enable-libtheora --enable-libtwolame --enable-libvidstab --enable-libvorbis --enable-libvpx --enable-libwavpack --enable-libwebp --enable-libx265 --enable-libxml2 --enable-libxvid --enable-libzmq --enable-libzvbi --enable-lv2 --enable-omx --enable-openal --enable-opencl --enable-opengl --enable-sdl2 --enable-libdc1394 --enable-libdrm --enable-libiec61883 --enable-nvenc --enable-chromaprint --enable-frei0r --enable-libx264 --enable-shared\n",
      "  libavutil      56. 31.100 / 56. 31.100\n",
      "  libavcodec     58. 54.100 / 58. 54.100\n",
      "  libavformat    58. 29.100 / 58. 29.100\n",
      "  libavdevice    58.  8.100 / 58.  8.100\n",
      "  libavfilter     7. 57.100 /  7. 57.100\n",
      "  libavresample   4.  0.  0 /  4.  0.  0\n",
      "  libswscale      5.  5.100 /  5.  5.100\n",
      "  libswresample   3.  5.100 /  3.  5.100\n",
      "  libpostproc    55.  5.100 / 55.  5.100\n",
      "Input #0, mov,mp4,m4a,3gp,3g2,mj2, from 'synth_output/0.mp4':\n",
      "  Metadata:\n",
      "    major_brand     : isom\n",
      "    minor_version   : 512\n",
      "    compatible_brands: isomiso2avc1mp41\n",
      "    encoder         : Lavf58.29.100\n",
      "  Duration: 00:00:18.90, start: 0.000000, bitrate: 2461 kb/s\n",
      "    Stream #0:0(und): Video: h264 (High) (avc1 / 0x31637661), yuv420p, 1000x1000, 2450 kb/s, 120 fps, 120 tbr, 15360 tbn, 240 tbc (default)\n",
      "    Metadata:\n",
      "      handler_name    : VideoHandler\n",
      "Guessed Channel Layout for Input Stream #1.0 : mono\n",
      "Input #1, wav, from 'synth_output/0.wav':\n",
      "  Duration: 00:00:18.87, bitrate: 529 kb/s\n",
      "    Stream #1:0: Audio: pcm_s24le ([1][0][0][0] / 0x0001), 22050 Hz, mono, s32 (24 bit), 529 kb/s\n",
      "Stream mapping:\n",
      "  Stream #0:0 (h264) -> concat:in0:v0\n",
      "  Stream #1:0 (pcm_s24le) -> concat:in0:a0\n",
      "  concat:out:a0 -> Stream #0:0 (aac)\n",
      "  concat:out:v0 -> Stream #0:1 (libx264)\n",
      "Press [q] to stop, [?] for help\n",
      "[libx264 @ 0x563432dd3e80] using cpu capabilities: MMX2 SSE2Fast SSSE3 SSE4.2 AVX FMA3 BMI2 AVX2 AVX512\n",
      "[libx264 @ 0x563432dd3e80] profile High, level 4.2\n",
      "[libx264 @ 0x563432dd3e80] 264 - core 155 r2917 0a84d98 - H.264/MPEG-4 AVC codec - Copyleft 2003-2018 - http://www.videolan.org/x264.html - options: cabac=1 ref=3 deblock=1:0:0 analyse=0x3:0x113 me=hex subme=7 psy=1 psy_rd=1.00:0.00 mixed_ref=1 me_range=16 chroma_me=1 trellis=1 8x8dct=1 cqm=0 deadzone=21,11 fast_pskip=1 chroma_qp_offset=-2 threads=31 lookahead_threads=5 sliced_threads=0 nr=0 decimate=1 interlaced=0 bluray_compat=0 constrained_intra=0 bframes=3 b_pyramid=2 b_adapt=1 b_bias=0 direct=1 weightb=1 open_gop=0 weightp=2 keyint=250 keyint_min=25 scenecut=40 intra_refresh=0 rc_lookahead=40 rc=crf mbtree=1 crf=23.0 qcomp=0.60 qpmin=0 qpmax=69 qpstep=4 ip_ratio=1.40 aq=1:1.00\n",
      "Output #0, mp4, to 'synth_output/0_audio.mp4':\n",
      "  Metadata:\n",
      "    major_brand     : isom\n",
      "    minor_version   : 512\n",
      "    compatible_brands: isomiso2avc1mp41\n",
      "    encoder         : Lavf58.29.100\n",
      "    Stream #0:0: Audio: aac (LC) (mp4a / 0x6134706D), 22050 Hz, mono, fltp, 69 kb/s (default)\n",
      "    Metadata:\n",
      "      encoder         : Lavc58.54.100 aac\n",
      "    Stream #0:1: Video: h264 (libx264) (avc1 / 0x31637661), yuv420p, 1000x1000, q=-1--1, 120 fps, 15360 tbn, 120 tbc (default)\n",
      "    Metadata:\n",
      "      encoder         : Lavc58.54.100 libx264\n",
      "    Side data:\n",
      "      cpb: bitrate max/min/avg: 0/0/0 buffer size: 0 vbv_delay: -1\n",
      "frame= 2055 fps=455 q=33.0 size=     768kB time=00:00:17.08 bitrate= 368.2kbits/s speed=3.79x    \r"
     ]
    },
    {
     "name": "stdout",
     "output_type": "stream",
     "text": [
      "Final output with audio: synth_output/0_audio.mp4\n"
     ]
    },
    {
     "name": "stderr",
     "output_type": "stream",
     "text": [
      "frame= 2268 fps=450 q=-1.0 Lsize=    1059kB time=00:00:18.90 bitrate= 459.2kbits/s speed=3.75x    \n",
      "video:846kB audio:177kB subtitle:0kB other streams:0kB global headers:0kB muxing overhead: 3.593406%\n",
      "[aac @ 0x563432dd2740] Qavg: 2339.779\n",
      "[libx264 @ 0x563432dd3e80] frame I:10    Avg QP:15.14  size: 49158\n",
      "[libx264 @ 0x563432dd3e80] frame P:572   Avg QP:21.38  size:   491\n",
      "[libx264 @ 0x563432dd3e80] frame B:1686  Avg QP:19.99  size:    55\n",
      "[libx264 @ 0x563432dd3e80] consecutive B-frames:  0.8%  0.1%  0.1% 98.9%\n",
      "[libx264 @ 0x563432dd3e80] mb I  I16..4: 52.5% 21.3% 26.2%\n",
      "[libx264 @ 0x563432dd3e80] mb P  I16..4:  0.0%  0.0%  0.0%  P16..4:  0.1%  0.2%  0.3%  0.0%  0.0%    skip:99.4%\n",
      "[libx264 @ 0x563432dd3e80] mb B  I16..4:  0.0%  0.0%  0.0%  B16..8:  0.1%  0.0%  0.0%  direct: 0.0%  skip:99.9%  L0:27.2% L1:58.9% BI:13.9%\n",
      "[libx264 @ 0x563432dd3e80] 8x8 transform intra:21.3% inter:17.5%\n",
      "[libx264 @ 0x563432dd3e80] coded y,uvDC,uvAC intra: 21.3% 1.4% 1.2% inter: 0.1% 0.1% 0.1%\n",
      "[libx264 @ 0x563432dd3e80] i16 v,h,dc,p: 97%  0%  3%  0%\n",
      "[libx264 @ 0x563432dd3e80] i8 v,h,dc,ddl,ddr,vr,hd,vl,hu: 33% 18% 48%  0%  0%  0%  0%  0%  0%\n",
      "[libx264 @ 0x563432dd3e80] i4 v,h,dc,ddl,ddr,vr,hd,vl,hu: 11% 13% 35% 11% 11%  1% 12%  1%  6%\n",
      "[libx264 @ 0x563432dd3e80] i8c dc,h,v,p: 99%  0%  1%  0%\n",
      "[libx264 @ 0x563432dd3e80] Weighted P-Frames: Y:0.0% UV:0.0%\n",
      "[libx264 @ 0x563432dd3e80] ref P L0: 80.7%  6.9%  7.9%  4.5%\n",
      "[libx264 @ 0x563432dd3e80] ref B L0: 92.9%  4.7%  2.5%\n",
      "[libx264 @ 0x563432dd3e80] ref B L1: 97.7%  2.3%\n",
      "[libx264 @ 0x563432dd3e80] kb/s:366.38\n"
     ]
    }
   ],
   "source": [
    "for i, output in enumerate(tqdm(outputs)):\n",
    "    to_stick_video(i, output['bvh'], OUTPUT_FOLDER)\n",
    "    combine_audio_video(i, OUTPUT_FOLDER)"
   ]
  },
  {
   "cell_type": "code",
   "execution_count": null,
   "id": "a1eba934-e169-4358-936b-46f62417c9c0",
   "metadata": {},
   "outputs": [],
   "source": []
  }
 ],
 "metadata": {
  "kernelspec": {
   "display_name": "match-ttsg-wsl",
   "language": "python",
   "name": "python3"
  },
  "language_info": {
   "codemirror_mode": {
    "name": "ipython",
    "version": 3
   },
   "file_extension": ".py",
   "mimetype": "text/x-python",
   "name": "python",
   "nbconvert_exporter": "python",
   "pygments_lexer": "ipython3",
   "version": "3.10.15"
  }
 },
 "nbformat": 4,
 "nbformat_minor": 5
}
